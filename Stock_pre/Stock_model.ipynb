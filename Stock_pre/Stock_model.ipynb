{
 "cells": [
  {
   "cell_type": "code",
   "execution_count": 39,
   "metadata": {},
   "outputs": [],
   "source": [
    "import numpy as np\n",
    "import pandas as pd\n",
    "import matplotlib.pyplot as plt\n",
    "from pandas_datareader import data as pdr\n",
    "from datetime import datetime\n",
    "import yfinance as yf\n",
    "yf.pdr_override()\n",
    "from sklearn.metrics import mean_absolute_error, mean_absolute_percentage_error, mean_squared_error"
   ]
  },
  {
   "cell_type": "markdown",
   "metadata": {},
   "source": [
    "### I. Load dữ liệu"
   ]
  },
  {
   "cell_type": "code",
   "execution_count": 2,
   "metadata": {},
   "outputs": [],
   "source": [
    "# Thời gian để load dữ liệu train mô hình\n",
    "startdate = datetime(2013,1,1)\n",
    "enddate = datetime(2023,12,31)\n",
    "y_symbols = ['AAPL'] #Thử nghiệm với mã cổ phiếu của Apple"
   ]
  },
  {
   "cell_type": "code",
   "execution_count": 3,
   "metadata": {},
   "outputs": [
    {
     "name": "stdout",
     "output_type": "stream",
     "text": [
      "[*********************100%***********************]  1 of 1 completed\n"
     ]
    },
    {
     "data": {
      "text/html": [
       "<div>\n",
       "<style scoped>\n",
       "    .dataframe tbody tr th:only-of-type {\n",
       "        vertical-align: middle;\n",
       "    }\n",
       "\n",
       "    .dataframe tbody tr th {\n",
       "        vertical-align: top;\n",
       "    }\n",
       "\n",
       "    .dataframe thead th {\n",
       "        text-align: right;\n",
       "    }\n",
       "</style>\n",
       "<table border=\"1\" class=\"dataframe\">\n",
       "  <thead>\n",
       "    <tr style=\"text-align: right;\">\n",
       "      <th></th>\n",
       "      <th>Date</th>\n",
       "      <th>Open</th>\n",
       "      <th>High</th>\n",
       "      <th>Low</th>\n",
       "      <th>Close</th>\n",
       "      <th>Adj Close</th>\n",
       "      <th>Volume</th>\n",
       "    </tr>\n",
       "  </thead>\n",
       "  <tbody>\n",
       "    <tr>\n",
       "      <th>0</th>\n",
       "      <td>2013-01-02 00:00:00-05:00</td>\n",
       "      <td>19.779285</td>\n",
       "      <td>19.821428</td>\n",
       "      <td>19.343929</td>\n",
       "      <td>19.608213</td>\n",
       "      <td>16.747719</td>\n",
       "      <td>560518000</td>\n",
       "    </tr>\n",
       "    <tr>\n",
       "      <th>1</th>\n",
       "      <td>2013-01-03 00:00:00-05:00</td>\n",
       "      <td>19.567142</td>\n",
       "      <td>19.631071</td>\n",
       "      <td>19.321428</td>\n",
       "      <td>19.360714</td>\n",
       "      <td>16.536329</td>\n",
       "      <td>352965200</td>\n",
       "    </tr>\n",
       "    <tr>\n",
       "      <th>2</th>\n",
       "      <td>2013-01-04 00:00:00-05:00</td>\n",
       "      <td>19.177500</td>\n",
       "      <td>19.236786</td>\n",
       "      <td>18.779642</td>\n",
       "      <td>18.821428</td>\n",
       "      <td>16.075716</td>\n",
       "      <td>594333600</td>\n",
       "    </tr>\n",
       "    <tr>\n",
       "      <th>3</th>\n",
       "      <td>2013-01-07 00:00:00-05:00</td>\n",
       "      <td>18.642857</td>\n",
       "      <td>18.903570</td>\n",
       "      <td>18.400000</td>\n",
       "      <td>18.710714</td>\n",
       "      <td>15.981157</td>\n",
       "      <td>484156400</td>\n",
       "    </tr>\n",
       "    <tr>\n",
       "      <th>4</th>\n",
       "      <td>2013-01-08 00:00:00-05:00</td>\n",
       "      <td>18.900356</td>\n",
       "      <td>18.996071</td>\n",
       "      <td>18.616072</td>\n",
       "      <td>18.761070</td>\n",
       "      <td>16.024164</td>\n",
       "      <td>458707200</td>\n",
       "    </tr>\n",
       "  </tbody>\n",
       "</table>\n",
       "</div>"
      ],
      "text/plain": [
       "                       Date       Open       High        Low      Close  \\\n",
       "0 2013-01-02 00:00:00-05:00  19.779285  19.821428  19.343929  19.608213   \n",
       "1 2013-01-03 00:00:00-05:00  19.567142  19.631071  19.321428  19.360714   \n",
       "2 2013-01-04 00:00:00-05:00  19.177500  19.236786  18.779642  18.821428   \n",
       "3 2013-01-07 00:00:00-05:00  18.642857  18.903570  18.400000  18.710714   \n",
       "4 2013-01-08 00:00:00-05:00  18.900356  18.996071  18.616072  18.761070   \n",
       "\n",
       "   Adj Close     Volume  \n",
       "0  16.747719  560518000  \n",
       "1  16.536329  352965200  \n",
       "2  16.075716  594333600  \n",
       "3  15.981157  484156400  \n",
       "4  16.024164  458707200  "
      ]
     },
     "execution_count": 3,
     "metadata": {},
     "output_type": "execute_result"
    }
   ],
   "source": [
    "# Đọc dữ liệu từ API của Yahoo Finance\n",
    "df = pdr.get_data_yahoo(y_symbols, start=startdate, end=enddate).reset_index()\n",
    "df.head()"
   ]
  },
  {
   "cell_type": "markdown",
   "metadata": {},
   "source": [
    "Dữ liệu gồm có các trường thông tin sau:\n",
    "\n",
    "- Date: Ngày giao dịch\n",
    "- Open: Giá mở của mã cổ phiếu trong ngày giao dịch\n",
    "- High: Giá giao dịch cao nhất của mã cổ phiếu trong ngày giao dịch\n",
    "- Low: Giá giao dịch thấp nhất của mã cổ phiếu trong ngày giao dịch\n",
    "- Close: Giá đóng phiên giao dịch của mã cổ phiếu trong ngày giao dịch\n",
    "- Adj Close: Giá đóng phiên giao dịch điều chỉnh của mã cổ phiếu trong ngày giao dịch\n",
    "- Volumn: Khối lượng giao dịch của mã cổ phiếu trong ngày giao dịch"
   ]
  },
  {
   "cell_type": "markdown",
   "metadata": {},
   "source": [
    "### II. Data preprocessing and understanding"
   ]
  },
  {
   "cell_type": "code",
   "execution_count": 4,
   "metadata": {},
   "outputs": [
    {
     "data": {
      "text/html": [
       "<div>\n",
       "<style scoped>\n",
       "    .dataframe tbody tr th:only-of-type {\n",
       "        vertical-align: middle;\n",
       "    }\n",
       "\n",
       "    .dataframe tbody tr th {\n",
       "        vertical-align: top;\n",
       "    }\n",
       "\n",
       "    .dataframe thead th {\n",
       "        text-align: right;\n",
       "    }\n",
       "</style>\n",
       "<table border=\"1\" class=\"dataframe\">\n",
       "  <thead>\n",
       "    <tr style=\"text-align: right;\">\n",
       "      <th></th>\n",
       "      <th>Open</th>\n",
       "      <th>High</th>\n",
       "      <th>Low</th>\n",
       "      <th>Close</th>\n",
       "      <th>Volume</th>\n",
       "    </tr>\n",
       "  </thead>\n",
       "  <tbody>\n",
       "    <tr>\n",
       "      <th>0</th>\n",
       "      <td>19.779285</td>\n",
       "      <td>19.821428</td>\n",
       "      <td>19.343929</td>\n",
       "      <td>19.608213</td>\n",
       "      <td>560518000</td>\n",
       "    </tr>\n",
       "    <tr>\n",
       "      <th>1</th>\n",
       "      <td>19.567142</td>\n",
       "      <td>19.631071</td>\n",
       "      <td>19.321428</td>\n",
       "      <td>19.360714</td>\n",
       "      <td>352965200</td>\n",
       "    </tr>\n",
       "    <tr>\n",
       "      <th>2</th>\n",
       "      <td>19.177500</td>\n",
       "      <td>19.236786</td>\n",
       "      <td>18.779642</td>\n",
       "      <td>18.821428</td>\n",
       "      <td>594333600</td>\n",
       "    </tr>\n",
       "    <tr>\n",
       "      <th>3</th>\n",
       "      <td>18.642857</td>\n",
       "      <td>18.903570</td>\n",
       "      <td>18.400000</td>\n",
       "      <td>18.710714</td>\n",
       "      <td>484156400</td>\n",
       "    </tr>\n",
       "    <tr>\n",
       "      <th>4</th>\n",
       "      <td>18.900356</td>\n",
       "      <td>18.996071</td>\n",
       "      <td>18.616072</td>\n",
       "      <td>18.761070</td>\n",
       "      <td>458707200</td>\n",
       "    </tr>\n",
       "  </tbody>\n",
       "</table>\n",
       "</div>"
      ],
      "text/plain": [
       "        Open       High        Low      Close     Volume\n",
       "0  19.779285  19.821428  19.343929  19.608213  560518000\n",
       "1  19.567142  19.631071  19.321428  19.360714  352965200\n",
       "2  19.177500  19.236786  18.779642  18.821428  594333600\n",
       "3  18.642857  18.903570  18.400000  18.710714  484156400\n",
       "4  18.900356  18.996071  18.616072  18.761070  458707200"
      ]
     },
     "execution_count": 4,
     "metadata": {},
     "output_type": "execute_result"
    }
   ],
   "source": [
    "# Loại bỏ trường thông tin không sử dụng\n",
    "df = df.drop(['Date','Adj Close'], axis = 1)\n",
    "df.head()"
   ]
  },
  {
   "cell_type": "code",
   "execution_count": 5,
   "metadata": {},
   "outputs": [
    {
     "data": {
      "text/plain": [
       "0"
      ]
     },
     "execution_count": 5,
     "metadata": {},
     "output_type": "execute_result"
    }
   ],
   "source": [
    "# Kiểm tra giá trị missing\n",
    "df[\"Close\"].isna().sum()\n",
    "\n",
    "# => Không có giá trị missing nào"
   ]
  },
  {
   "cell_type": "code",
   "execution_count": 6,
   "metadata": {},
   "outputs": [
    {
     "name": "stdout",
     "output_type": "stream",
     "text": [
      "<class 'pandas.core.frame.DataFrame'>\n",
      "RangeIndex: 2768 entries, 0 to 2767\n",
      "Data columns (total 5 columns):\n",
      " #   Column  Non-Null Count  Dtype  \n",
      "---  ------  --------------  -----  \n",
      " 0   Open    2768 non-null   float64\n",
      " 1   High    2768 non-null   float64\n",
      " 2   Low     2768 non-null   float64\n",
      " 3   Close   2768 non-null   float64\n",
      " 4   Volume  2768 non-null   int64  \n",
      "dtypes: float64(4), int64(1)\n",
      "memory usage: 108.2 KB\n"
     ]
    }
   ],
   "source": [
    "df.info()"
   ]
  },
  {
   "cell_type": "code",
   "execution_count": 7,
   "metadata": {},
   "outputs": [
    {
     "data": {
      "text/html": [
       "<div>\n",
       "<style scoped>\n",
       "    .dataframe tbody tr th:only-of-type {\n",
       "        vertical-align: middle;\n",
       "    }\n",
       "\n",
       "    .dataframe tbody tr th {\n",
       "        vertical-align: top;\n",
       "    }\n",
       "\n",
       "    .dataframe thead th {\n",
       "        text-align: right;\n",
       "    }\n",
       "</style>\n",
       "<table border=\"1\" class=\"dataframe\">\n",
       "  <thead>\n",
       "    <tr style=\"text-align: right;\">\n",
       "      <th></th>\n",
       "      <th>Open</th>\n",
       "      <th>High</th>\n",
       "      <th>Low</th>\n",
       "      <th>Close</th>\n",
       "      <th>Volume</th>\n",
       "    </tr>\n",
       "  </thead>\n",
       "  <tbody>\n",
       "    <tr>\n",
       "      <th>count</th>\n",
       "      <td>2768.000000</td>\n",
       "      <td>2768.000000</td>\n",
       "      <td>2768.000000</td>\n",
       "      <td>2768.000000</td>\n",
       "      <td>2.768000e+03</td>\n",
       "    </tr>\n",
       "    <tr>\n",
       "      <th>mean</th>\n",
       "      <td>72.306914</td>\n",
       "      <td>73.092193</td>\n",
       "      <td>71.567077</td>\n",
       "      <td>72.363529</td>\n",
       "      <td>1.612260e+08</td>\n",
       "    </tr>\n",
       "    <tr>\n",
       "      <th>std</th>\n",
       "      <td>56.353981</td>\n",
       "      <td>56.992647</td>\n",
       "      <td>55.763624</td>\n",
       "      <td>56.411026</td>\n",
       "      <td>1.236387e+08</td>\n",
       "    </tr>\n",
       "    <tr>\n",
       "      <th>min</th>\n",
       "      <td>13.856071</td>\n",
       "      <td>14.271429</td>\n",
       "      <td>13.753571</td>\n",
       "      <td>13.947500</td>\n",
       "      <td>2.404830e+07</td>\n",
       "    </tr>\n",
       "    <tr>\n",
       "      <th>25%</th>\n",
       "      <td>27.574999</td>\n",
       "      <td>27.933750</td>\n",
       "      <td>27.295626</td>\n",
       "      <td>27.588126</td>\n",
       "      <td>8.424670e+07</td>\n",
       "    </tr>\n",
       "    <tr>\n",
       "      <th>50%</th>\n",
       "      <td>43.835001</td>\n",
       "      <td>44.312500</td>\n",
       "      <td>43.623751</td>\n",
       "      <td>43.958752</td>\n",
       "      <td>1.211314e+08</td>\n",
       "    </tr>\n",
       "    <tr>\n",
       "      <th>75%</th>\n",
       "      <td>128.952499</td>\n",
       "      <td>130.627506</td>\n",
       "      <td>127.415003</td>\n",
       "      <td>129.612499</td>\n",
       "      <td>1.957962e+08</td>\n",
       "    </tr>\n",
       "    <tr>\n",
       "      <th>max</th>\n",
       "      <td>198.020004</td>\n",
       "      <td>199.619995</td>\n",
       "      <td>197.000000</td>\n",
       "      <td>198.110001</td>\n",
       "      <td>1.460852e+09</td>\n",
       "    </tr>\n",
       "  </tbody>\n",
       "</table>\n",
       "</div>"
      ],
      "text/plain": [
       "              Open         High          Low        Close        Volume\n",
       "count  2768.000000  2768.000000  2768.000000  2768.000000  2.768000e+03\n",
       "mean     72.306914    73.092193    71.567077    72.363529  1.612260e+08\n",
       "std      56.353981    56.992647    55.763624    56.411026  1.236387e+08\n",
       "min      13.856071    14.271429    13.753571    13.947500  2.404830e+07\n",
       "25%      27.574999    27.933750    27.295626    27.588126  8.424670e+07\n",
       "50%      43.835001    44.312500    43.623751    43.958752  1.211314e+08\n",
       "75%     128.952499   130.627506   127.415003   129.612499  1.957962e+08\n",
       "max     198.020004   199.619995   197.000000   198.110001  1.460852e+09"
      ]
     },
     "execution_count": 7,
     "metadata": {},
     "output_type": "execute_result"
    }
   ],
   "source": [
    "df.describe()"
   ]
  },
  {
   "cell_type": "markdown",
   "metadata": {},
   "source": [
    "### Mô hình sẽ mô phỏng và dự đoán giá đóng phiên (Close) của mã cổ phiếu "
   ]
  },
  {
   "cell_type": "code",
   "execution_count": 8,
   "metadata": {},
   "outputs": [
    {
     "name": "stderr",
     "output_type": "stream",
     "text": [
      "No artists with labels found to put in legend.  Note that artists whose label start with an underscore are ignored when legend() is called with no argument.\n"
     ]
    },
    {
     "data": {
      "image/png": "[encoded data removed]",
      "text/plain": [
       "<Figure size 432x288 with 1 Axes>"
      ]
     },
     "metadata": {
      "needs_background": "light"
     },
     "output_type": "display_data"
    }
   ],
   "source": [
    "# Biểu đồ giá đóng phiên của mã cổ phiếu\n",
    "plt.plot(df.Close)\n",
    "plt.legend()\n",
    "plt.xlabel('Time')\n",
    "plt.ylabel('Price')\n",
    "plt.title(\"Close price for AAPL\")\n",
    "\n",
    "plt.show()\n"
   ]
  },
  {
   "cell_type": "code",
   "execution_count": 9,
   "metadata": {},
   "outputs": [
    {
     "data": {
      "text/plain": [
       "0              NaN\n",
       "1              NaN\n",
       "2              NaN\n",
       "3              NaN\n",
       "4              NaN\n",
       "           ...    \n",
       "2763    181.768301\n",
       "2764    181.787101\n",
       "2765    181.898701\n",
       "2766    182.046001\n",
       "2767    182.173301\n",
       "Name: Close, Length: 2768, dtype: float64"
      ]
     },
     "execution_count": 9,
     "metadata": {},
     "output_type": "execute_result"
    }
   ],
   "source": [
    "# Tính Moving Average 100 days\n",
    "ma100 = df.Close.rolling(100).mean()\n",
    "ma100"
   ]
  },
  {
   "cell_type": "code",
   "execution_count": 10,
   "metadata": {},
   "outputs": [
    {
     "data": {
      "image/png": "[encoded data removed]",
      "text/plain": [
       "<Figure size 864x432 with 1 Axes>"
      ]
     },
     "metadata": {
      "needs_background": "light"
     },
     "output_type": "display_data"
    }
   ],
   "source": [
    "# Biểu đồ Moving Average 100 ngày so sánh với biến động giá đóng phiên của mã cổ phiếu\n",
    "plt.figure(figsize=(12,6))\n",
    "plt.plot(df.Close, label=\"Close price\")\n",
    "plt.plot(ma100,'r', label=\"Moving average 100 price\")\n",
    "plt.legend()\n",
    "plt.title(\"Moving average 100 for Close price for AAPL\")\n",
    "plt.xlabel('Time')\n",
    "plt.ylabel('Price')\n",
    "plt.show()\n"
   ]
  },
  {
   "cell_type": "markdown",
   "metadata": {},
   "source": [
    "### III. Train-test split & Data preparation for model training"
   ]
  },
  {
   "cell_type": "code",
   "execution_count": 11,
   "metadata": {},
   "outputs": [
    {
     "data": {
      "text/plain": [
       "(1937, 1)"
      ]
     },
     "execution_count": 11,
     "metadata": {},
     "output_type": "execute_result"
    }
   ],
   "source": [
    "# Tách tập train và tập test với tỉ lệ 70% - 30%\n",
    "data_train = pd.DataFrame(df['Close'][0:int(len(df)*0.7)])\n",
    "data_test = pd.DataFrame(df['Close'][int(len(df)*0.7):len(df)])\n",
    "data_train.shape\n"
   ]
  },
  {
   "cell_type": "code",
   "execution_count": 12,
   "metadata": {},
   "outputs": [
    {
     "data": {
      "text/plain": [
       "1937"
      ]
     },
     "execution_count": 12,
     "metadata": {},
     "output_type": "execute_result"
    }
   ],
   "source": [
    "# Transform scale \n",
    "from sklearn.preprocessing import MinMaxScaler\n",
    "scaler = MinMaxScaler(feature_range = (0,1))\n",
    "data_train_array = scaler.fit_transform(data_train)\n",
    "data_test_array = scaler.fit_transform(data_test)\n",
    "data_train_array.size"
   ]
  },
  {
   "cell_type": "code",
   "execution_count": 13,
   "metadata": {},
   "outputs": [],
   "source": [
    "\n",
    "\n",
    "# Tạo dữ liệu x_train và dữ liệu nhãn y_train\n",
    "x_train = []\n",
    "y_train = []\n",
    "\n",
    "for i in range(100, data_train_array.shape[0]):\n",
    "    x_train.append(data_train_array[i-100:i])  \n",
    "    y_train.append(data_train_array[i,0])      \n",
    "\n",
    "\n",
    "# Tạo dữ liệu x_test và dữ liệu nhãn y_test\n",
    "x_test = []\n",
    "y_test = []\n",
    "\n",
    "for i in range(100, data_test_array.shape[0]):\n",
    "    x_test.append(data_test_array[i-100:i])\n",
    "    y_test.append(data_test_array[i,0])\n"
   ]
  },
  {
   "cell_type": "code",
   "execution_count": 14,
   "metadata": {},
   "outputs": [
    {
     "name": "stdout",
     "output_type": "stream",
     "text": [
      "Data train:\n",
      "183700\n",
      "1837\n",
      "Dữ liệu test:\n",
      "73100\n",
      "731\n"
     ]
    }
   ],
   "source": [
    "# Chuyển dữ liệu về dạng array\n",
    "\n",
    "x_train, y_train = np.array(x_train), np.array(y_train)\n",
    "print(\"Data train:\")\n",
    "print(x_train.size)\n",
    "print(y_train.size)\n",
    "\n",
    "print(\"Dữ liệu test:\")\n",
    "x_test, y_test = np.array(x_test), np.array(y_test)\n",
    "print(x_test.size)\n",
    "print(y_test.size)"
   ]
  },
  {
   "cell_type": "markdown",
   "metadata": {},
   "source": [
    "### IV. Train model"
   ]
  },
  {
   "cell_type": "code",
   "execution_count": 15,
   "metadata": {},
   "outputs": [],
   "source": [
    "from keras.layers import Dense, Dropout, LSTM\n",
    "from keras.models import Sequential"
   ]
  },
  {
   "cell_type": "code",
   "execution_count": 16,
   "metadata": {},
   "outputs": [],
   "source": [
    "# Define các layers cho thuật toán LSTM\n",
    "model = Sequential()\n",
    "model.add(LSTM(units= 50, activation = 'relu', return_sequences= True, input_shape = (x_train.shape[1],1)))\n",
    "model.add(Dropout(0.2))\n",
    "\n",
    "\n",
    "model.add(LSTM(units= 60, activation = 'relu', return_sequences= True))\n",
    "model.add(Dropout(0.3))\n",
    "\n",
    "\n",
    "model.add(LSTM(units= 80, activation = 'relu', return_sequences= True))\n",
    "model.add(Dropout(0.4))\n",
    "\n",
    "model.add(LSTM(units= 120, activation = 'relu'))\n",
    "model.add(Dropout(0.5))\n",
    "\n",
    "model.add(Dense(units = 1))\n",
    "\n"
   ]
  },
  {
   "cell_type": "code",
   "execution_count": 17,
   "metadata": {},
   "outputs": [
    {
     "name": "stdout",
     "output_type": "stream",
     "text": [
      "Model: \"sequential\"\n",
      "_________________________________________________________________\n",
      " Layer (type)                Output Shape              Param #   \n",
      "=================================================================\n",
      " lstm (LSTM)                 (None, 100, 50)           10400     \n",
      "                                                                 \n",
      " dropout (Dropout)           (None, 100, 50)           0         \n",
      "                                                                 \n",
      " lstm_1 (LSTM)               (None, 100, 60)           26640     \n",
      "                                                                 \n",
      " dropout_1 (Dropout)         (None, 100, 60)           0         \n",
      "                                                                 \n",
      " lstm_2 (LSTM)               (None, 100, 80)           45120     \n",
      "                                                                 \n",
      " dropout_2 (Dropout)         (None, 100, 80)           0         \n",
      "                                                                 \n",
      " lstm_3 (LSTM)               (None, 120)               96480     \n",
      "                                                                 \n",
      " dropout_3 (Dropout)         (None, 120)               0         \n",
      "                                                                 \n",
      " dense (Dense)               (None, 1)                 121       \n",
      "                                                                 \n",
      "=================================================================\n",
      "Total params: 178,761\n",
      "Trainable params: 178,761\n",
      "Non-trainable params: 0\n",
      "_________________________________________________________________\n"
     ]
    }
   ],
   "source": [
    "model.summary()"
   ]
  },
  {
   "cell_type": "code",
   "execution_count": 18,
   "metadata": {},
   "outputs": [
    {
     "name": "stdout",
     "output_type": "stream",
     "text": [
      "Epoch 1/50\n",
      "58/58 [==============================] - 26s 325ms/step - loss: 0.0148\n",
      "Epoch 2/50\n",
      "58/58 [==============================] - 19s 324ms/step - loss: 0.0032\n",
      "Epoch 3/50\n",
      "58/58 [==============================] - 18s 318ms/step - loss: 0.0036\n",
      "Epoch 4/50\n",
      "58/58 [==============================] - 18s 318ms/step - loss: 0.0028\n",
      "Epoch 5/50\n",
      "58/58 [==============================] - 18s 313ms/step - loss: 0.0029\n",
      "Epoch 6/50\n",
      "58/58 [==============================] - 18s 316ms/step - loss: 0.0024\n",
      "Epoch 7/50\n",
      "58/58 [==============================] - 18s 309ms/step - loss: 0.0023\n",
      "Epoch 8/50\n",
      "58/58 [==============================] - 18s 315ms/step - loss: 0.0024\n",
      "Epoch 9/50\n",
      "58/58 [==============================] - 18s 306ms/step - loss: 0.0021\n",
      "Epoch 10/50\n",
      "58/58 [==============================] - 18s 308ms/step - loss: 0.0019\n",
      "Epoch 11/50\n",
      "58/58 [==============================] - 17s 298ms/step - loss: 0.0020\n",
      "Epoch 12/50\n",
      "58/58 [==============================] - 17s 295ms/step - loss: 0.0020\n",
      "Epoch 13/50\n",
      "58/58 [==============================] - 17s 294ms/step - loss: 0.0017\n",
      "Epoch 14/50\n",
      "58/58 [==============================] - 17s 300ms/step - loss: 0.0017\n",
      "Epoch 15/50\n",
      "58/58 [==============================] - 17s 300ms/step - loss: 0.0018\n",
      "Epoch 16/50\n",
      "58/58 [==============================] - 17s 299ms/step - loss: 0.0018\n",
      "Epoch 17/50\n",
      "58/58 [==============================] - 17s 296ms/step - loss: 0.0019\n",
      "Epoch 18/50\n",
      "58/58 [==============================] - 17s 298ms/step - loss: 0.0020\n",
      "Epoch 19/50\n",
      "58/58 [==============================] - 17s 296ms/step - loss: 0.0015\n",
      "Epoch 20/50\n",
      "58/58 [==============================] - 17s 299ms/step - loss: 0.0012\n",
      "Epoch 21/50\n",
      "58/58 [==============================] - 17s 298ms/step - loss: 0.0020\n",
      "Epoch 22/50\n",
      "58/58 [==============================] - 17s 300ms/step - loss: 0.0014\n",
      "Epoch 23/50\n",
      "58/58 [==============================] - 17s 297ms/step - loss: 0.0016\n",
      "Epoch 24/50\n",
      "58/58 [==============================] - 17s 296ms/step - loss: 0.0014\n",
      "Epoch 25/50\n",
      "58/58 [==============================] - 17s 299ms/step - loss: 0.0015\n",
      "Epoch 26/50\n",
      "58/58 [==============================] - 17s 294ms/step - loss: 0.0018\n",
      "Epoch 27/50\n",
      "58/58 [==============================] - 17s 298ms/step - loss: 0.0013\n",
      "Epoch 28/50\n",
      "58/58 [==============================] - 17s 292ms/step - loss: 0.0014\n",
      "Epoch 29/50\n",
      "58/58 [==============================] - 17s 295ms/step - loss: 0.0013\n",
      "Epoch 30/50\n",
      "58/58 [==============================] - 17s 295ms/step - loss: 0.0015\n",
      "Epoch 31/50\n",
      "58/58 [==============================] - 18s 316ms/step - loss: 0.0014\n",
      "Epoch 32/50\n",
      "58/58 [==============================] - 18s 314ms/step - loss: 0.0013\n",
      "Epoch 33/50\n",
      "58/58 [==============================] - 17s 300ms/step - loss: 9.9666e-04\n",
      "Epoch 34/50\n",
      "58/58 [==============================] - 18s 304ms/step - loss: 0.0012\n",
      "Epoch 35/50\n",
      "58/58 [==============================] - 21s 363ms/step - loss: 0.0015\n",
      "Epoch 36/50\n",
      "58/58 [==============================] - 21s 355ms/step - loss: 0.0013\n",
      "Epoch 37/50\n",
      "58/58 [==============================] - 29s 506ms/step - loss: 0.0013\n",
      "Epoch 38/50\n",
      "58/58 [==============================] - 21s 364ms/step - loss: 0.0012\n",
      "Epoch 39/50\n",
      "58/58 [==============================] - 20s 349ms/step - loss: 0.0014\n",
      "Epoch 40/50\n",
      "58/58 [==============================] - 21s 361ms/step - loss: 0.0012\n",
      "Epoch 41/50\n",
      "58/58 [==============================] - 21s 364ms/step - loss: 0.0012\n",
      "Epoch 42/50\n",
      "58/58 [==============================] - 21s 370ms/step - loss: 0.0013\n",
      "Epoch 43/50\n",
      "58/58 [==============================] - 21s 357ms/step - loss: 0.0012\n",
      "Epoch 44/50\n",
      "58/58 [==============================] - 22s 376ms/step - loss: 0.0012\n",
      "Epoch 45/50\n",
      "58/58 [==============================] - 22s 387ms/step - loss: 9.4501e-04\n",
      "Epoch 46/50\n",
      "58/58 [==============================] - 23s 388ms/step - loss: 0.0012\n",
      "Epoch 47/50\n",
      "58/58 [==============================] - 21s 365ms/step - loss: 0.0011\n",
      "Epoch 48/50\n",
      "58/58 [==============================] - 19s 330ms/step - loss: 0.0011\n",
      "Epoch 49/50\n",
      "58/58 [==============================] - 22s 379ms/step - loss: 0.0012\n",
      "Epoch 50/50\n",
      "58/58 [==============================] - 23s 404ms/step - loss: 0.0011\n"
     ]
    },
    {
     "data": {
      "text/plain": [
       "<keras.callbacks.History at 0x20056f7ee30>"
      ]
     },
     "execution_count": 18,
     "metadata": {},
     "output_type": "execute_result"
    }
   ],
   "source": [
    "# Train mô hình\n",
    "model.compile(optimizer = 'adam', loss = 'mean_squared_error')\n",
    "model.fit(x_train, y_train, epochs = 50)"
   ]
  },
  {
   "cell_type": "code",
   "execution_count": 19,
   "metadata": {},
   "outputs": [],
   "source": [
    "# Hàm tính mae\n",
    "\n",
    "def mae(y_true, y_pred):\n",
    "    n = len(y_true)\n",
    "    mae = sum(abs(y_true[i] - y_pred[i]) for i in range(n)) / n\n",
    "    return mae"
   ]
  },
  {
   "cell_type": "code",
   "execution_count": 41,
   "metadata": {},
   "outputs": [
    {
     "name": "stdout",
     "output_type": "stream",
     "text": [
      "23/23 [==============================] - 2s 68ms/step\n",
      "MAE:  5.358621712096251\n"
     ]
    }
   ],
   "source": [
    "# Evaluate model\n",
    "y_predict = model.predict(x_test)\n",
    "\n",
    "scale = scaler.scale_\n",
    "\n",
    "scaler_factor = 1/scale[0]\n",
    "y_predicted_1 = y_predict * scaler_factor\n",
    "y_test_1 = y_test * scaler_factor\n",
    "\n",
    "mae = mean_absolute_error(y_test_1, y_predicted_1)\n",
    "print(\"MAE: \", mae)\n"
   ]
  },
  {
   "cell_type": "code",
   "execution_count": 21,
   "metadata": {},
   "outputs": [],
   "source": [
    "# Save model to folder\n",
    "model.save('stock_pre.h5')"
   ]
  },
  {
   "cell_type": "markdown",
   "metadata": {},
   "source": [
    "### V. Hyperparameter tunning"
   ]
  },
  {
   "cell_type": "code",
   "execution_count": 23,
   "metadata": {},
   "outputs": [],
   "source": [
    "# Importing the libraries\n",
    "import numpy as np\n",
    "import matplotlib.pyplot as plt\n",
    "import pandas as pd\n",
    "import seaborn as sns\n",
    "import tensorflow as tf\n",
    "from keras.models import Sequential\n",
    "from keras.layers import Dense\n",
    "from keras.layers import LSTM, GRU\n",
    "from keras.layers import Dropout\n",
    "from sklearn.preprocessing import MinMaxScaler\n",
    "from keras.models import load_model\n",
    "from keras.callbacks import EarlyStopping\n",
    "from keras.callbacks import ModelCheckpoint\n",
    "import itertools\n",
    "import random\n",
    "import os"
   ]
  },
  {
   "cell_type": "code",
   "execution_count": 24,
   "metadata": {},
   "outputs": [],
   "source": [
    "# Define một hàm để tạo mô hình LSTM\n",
    "\n",
    "# detect and init the TPU\n",
    "# tpu = tf.distribute.cluster_resolver.TPUClusterResolver()\n",
    "# tf.config.experimental_connect_to_cluster(tpu)\n",
    "# tf.tpu.experimental.initialize_tpu_system(tpu)\n",
    "\n",
    "# instantiate a distribution strategy\n",
    "# tpu_strategy = tf.distribute.experimental.TPUStrategy(tpu)\n",
    "\n",
    "def LSTM_HyperParameter_Tuning(config, x_train, y_train, x_test, y_test):\n",
    "    \n",
    "    first_additional_layer, second_additional_layer, third_additional_layer, n_neurons, n_batch_size, dropout = config\n",
    "    possible_combinations = list(itertools.product(first_additional_layer, second_additional_layer, third_additional_layer,\n",
    "                                                  n_neurons, n_batch_size, dropout))\n",
    "    \n",
    "    print(possible_combinations)\n",
    "    print('\\n')\n",
    "    \n",
    "    hist = []\n",
    "    \n",
    "    for i in range(0, len(possible_combinations)):\n",
    "        \n",
    "        print(f'{i+1}th combination: \\n')\n",
    "        print('--------------------------------------------------------------------')\n",
    "        \n",
    "        first_additional_layer, second_additional_layer, third_additional_layer, n_neurons, n_batch_size, dropout = possible_combinations[i]\n",
    "        \n",
    "        # instantiating the model in the strategy scope creates the model on the TPU with tpu_strategy.scope():\n",
    "        regressor = Sequential()\n",
    "        regressor.add(LSTM(units=n_neurons, return_sequences=True, input_shape=(x_train.shape[1], x_train.shape[2])))\n",
    "        regressor.add(Dropout(dropout))\n",
    "\n",
    "        if first_additional_layer:\n",
    "            regressor.add(LSTM(units=n_neurons, return_sequences=True))\n",
    "            regressor.add(Dropout(dropout))\n",
    "\n",
    "        if second_additional_layer:\n",
    "            regressor.add(LSTM(units=n_neurons, return_sequences=True))\n",
    "            regressor.add(Dropout(dropout))\n",
    "\n",
    "        if third_additional_layer:\n",
    "            regressor.add(GRU(units=n_neurons, return_sequences=True))\n",
    "            regressor.add(Dropout(dropout))\n",
    "\n",
    "        regressor.add(LSTM(units=n_neurons, return_sequences=False))\n",
    "        regressor.add(Dropout(dropout))\n",
    "        regressor.add(Dense(units=1, activation='linear'))\n",
    "        regressor.compile(optimizer='adam', loss='mse', metrics=[tf.keras.metrics.RootMeanSquaredError()])\n",
    "\n",
    "        es = EarlyStopping(monitor='val_loss', mode='min', verbose=1, patience=5)\n",
    "        '''''\n",
    "        From the mentioned article above --> If a validation dataset is specified to the fit() function via the validation_data or v\n",
    "        alidation_split arguments,then the loss on the validation dataset will be made available via the name “val_loss.”\n",
    "        '''''\n",
    "\n",
    "        file_path = 'best_model.h5'\n",
    "\n",
    "        regressor.fit(x_train, y_train, validation_split=0.3, epochs=40, batch_size=n_batch_size, callbacks=[es], verbose=0)\n",
    "\n",
    "        # load the best model\n",
    "        # regressor = load_model('best_model.h5')\n",
    "\n",
    "        train_accuracy = regressor.evaluate(x_train, y_train, verbose=0)\n",
    "        test_accuracy = regressor.evaluate(x_test, y_test, verbose=0)\n",
    "\n",
    "        hist.append(list((first_additional_layer, second_additional_layer, third_additional_layer, n_neurons, n_batch_size, dropout,\n",
    "                          train_accuracy, test_accuracy)))\n",
    "\n",
    "        print(f'{str(i)}-th combination = {possible_combinations[i]} \\n train accuracy: {train_accuracy} and test accuracy: {test_accuracy}')\n",
    "        \n",
    "        print('--------------------------------------------------------------------')\n",
    "        print('--------------------------------------------------------------------')\n",
    "        print('--------------------------------------------------------------------')\n",
    "\n",
    "    return hist\n",
    "        "
   ]
  },
  {
   "cell_type": "code",
   "execution_count": 25,
   "metadata": {},
   "outputs": [
    {
     "name": "stdout",
     "output_type": "stream",
     "text": [
      "[(False, False, False, 16, 8, 0.2), (False, False, False, 16, 16, 0.2), (False, False, False, 16, 32, 0.2), (False, False, False, 32, 8, 0.2), (False, False, False, 32, 16, 0.2), (False, False, False, 32, 32, 0.2)]\n",
      "\n",
      "\n",
      "1th combination: \n",
      "\n",
      "--------------------------------------------------------------------\n",
      "Epoch 9: early stopping\n",
      "0-th combination = (False, False, False, 16, 8, 0.2) \n",
      " train accuracy: [0.0003988739917986095, 0.019971830770373344] and test accuracy: [0.0044867065735161304, 0.06698288023471832]\n",
      "--------------------------------------------------------------------\n",
      "--------------------------------------------------------------------\n",
      "--------------------------------------------------------------------\n",
      "2th combination: \n",
      "\n",
      "--------------------------------------------------------------------\n",
      "Epoch 9: early stopping\n",
      "1-th combination = (False, False, False, 16, 16, 0.2) \n",
      " train accuracy: [0.0008451705798506737, 0.02907181717455387] and test accuracy: [0.008308668620884418, 0.0911519005894661]\n",
      "--------------------------------------------------------------------\n",
      "--------------------------------------------------------------------\n",
      "--------------------------------------------------------------------\n",
      "3th combination: \n",
      "\n",
      "--------------------------------------------------------------------\n",
      "Epoch 11: early stopping\n",
      "2-th combination = (False, False, False, 16, 32, 0.2) \n",
      " train accuracy: [0.00043476521386764944, 0.020851023495197296] and test accuracy: [0.00502646341919899, 0.07089754939079285]\n",
      "--------------------------------------------------------------------\n",
      "--------------------------------------------------------------------\n",
      "--------------------------------------------------------------------\n",
      "4th combination: \n",
      "\n",
      "--------------------------------------------------------------------\n",
      "Epoch 30: early stopping\n",
      "3-th combination = (False, False, False, 32, 8, 0.2) \n",
      " train accuracy: [0.00019463735225144774, 0.013951249420642853] and test accuracy: [0.0021344413980841637, 0.046200014650821686]\n",
      "--------------------------------------------------------------------\n",
      "--------------------------------------------------------------------\n",
      "--------------------------------------------------------------------\n",
      "5th combination: \n",
      "\n",
      "--------------------------------------------------------------------\n",
      "Epoch 8: early stopping\n",
      "4-th combination = (False, False, False, 32, 16, 0.2) \n",
      " train accuracy: [0.0006542017217725515, 0.025577368214726448] and test accuracy: [0.006305658724159002, 0.0794081762433052]\n",
      "--------------------------------------------------------------------\n",
      "--------------------------------------------------------------------\n",
      "--------------------------------------------------------------------\n",
      "6th combination: \n",
      "\n",
      "--------------------------------------------------------------------\n",
      "Epoch 8: early stopping\n",
      "5-th combination = (False, False, False, 32, 32, 0.2) \n",
      " train accuracy: [0.00048397979116998613, 0.02199953980743885] and test accuracy: [0.005298966076225042, 0.07279399782419205]\n",
      "--------------------------------------------------------------------\n",
      "--------------------------------------------------------------------\n",
      "--------------------------------------------------------------------\n"
     ]
    }
   ],
   "source": [
    "config = [[False], [False], [False], [16, 32], [8, 16, 32], [0.2]]  \n",
    "\n",
    "# list of lists --> [[first_additional_layer], [second_additional_layer], [third_additional_layer], [n_neurons], [n_batch_size], [dropout]]\n",
    "\n",
    "hist = LSTM_HyperParameter_Tuning(config, x_train, y_train, x_test, y_test)  # change x_train shape"
   ]
  },
  {
   "cell_type": "code",
   "execution_count": 26,
   "metadata": {},
   "outputs": [
    {
     "data": {
      "text/html": [
       "<div>\n",
       "<style scoped>\n",
       "    .dataframe tbody tr th:only-of-type {\n",
       "        vertical-align: middle;\n",
       "    }\n",
       "\n",
       "    .dataframe tbody tr th {\n",
       "        vertical-align: top;\n",
       "    }\n",
       "\n",
       "    .dataframe thead th {\n",
       "        text-align: right;\n",
       "    }\n",
       "</style>\n",
       "<table border=\"1\" class=\"dataframe\">\n",
       "  <thead>\n",
       "    <tr style=\"text-align: right;\">\n",
       "      <th></th>\n",
       "      <th>0</th>\n",
       "      <th>1</th>\n",
       "      <th>2</th>\n",
       "      <th>3</th>\n",
       "      <th>4</th>\n",
       "      <th>5</th>\n",
       "      <th>6</th>\n",
       "      <th>7</th>\n",
       "    </tr>\n",
       "  </thead>\n",
       "  <tbody>\n",
       "    <tr>\n",
       "      <th>3</th>\n",
       "      <td>False</td>\n",
       "      <td>False</td>\n",
       "      <td>False</td>\n",
       "      <td>32</td>\n",
       "      <td>8</td>\n",
       "      <td>0.2</td>\n",
       "      <td>[0.00019463735225144774, 0.013951249420642853]</td>\n",
       "      <td>[0.0021344413980841637, 0.046200014650821686]</td>\n",
       "    </tr>\n",
       "    <tr>\n",
       "      <th>0</th>\n",
       "      <td>False</td>\n",
       "      <td>False</td>\n",
       "      <td>False</td>\n",
       "      <td>16</td>\n",
       "      <td>8</td>\n",
       "      <td>0.2</td>\n",
       "      <td>[0.0003988739917986095, 0.019971830770373344]</td>\n",
       "      <td>[0.0044867065735161304, 0.06698288023471832]</td>\n",
       "    </tr>\n",
       "    <tr>\n",
       "      <th>2</th>\n",
       "      <td>False</td>\n",
       "      <td>False</td>\n",
       "      <td>False</td>\n",
       "      <td>16</td>\n",
       "      <td>32</td>\n",
       "      <td>0.2</td>\n",
       "      <td>[0.00043476521386764944, 0.020851023495197296]</td>\n",
       "      <td>[0.00502646341919899, 0.07089754939079285]</td>\n",
       "    </tr>\n",
       "    <tr>\n",
       "      <th>5</th>\n",
       "      <td>False</td>\n",
       "      <td>False</td>\n",
       "      <td>False</td>\n",
       "      <td>32</td>\n",
       "      <td>32</td>\n",
       "      <td>0.2</td>\n",
       "      <td>[0.00048397979116998613, 0.02199953980743885]</td>\n",
       "      <td>[0.005298966076225042, 0.07279399782419205]</td>\n",
       "    </tr>\n",
       "    <tr>\n",
       "      <th>4</th>\n",
       "      <td>False</td>\n",
       "      <td>False</td>\n",
       "      <td>False</td>\n",
       "      <td>32</td>\n",
       "      <td>16</td>\n",
       "      <td>0.2</td>\n",
       "      <td>[0.0006542017217725515, 0.025577368214726448]</td>\n",
       "      <td>[0.006305658724159002, 0.0794081762433052]</td>\n",
       "    </tr>\n",
       "    <tr>\n",
       "      <th>1</th>\n",
       "      <td>False</td>\n",
       "      <td>False</td>\n",
       "      <td>False</td>\n",
       "      <td>16</td>\n",
       "      <td>16</td>\n",
       "      <td>0.2</td>\n",
       "      <td>[0.0008451705798506737, 0.02907181717455387]</td>\n",
       "      <td>[0.008308668620884418, 0.0911519005894661]</td>\n",
       "    </tr>\n",
       "  </tbody>\n",
       "</table>\n",
       "</div>"
      ],
      "text/plain": [
       "       0      1      2   3   4    5  \\\n",
       "3  False  False  False  32   8  0.2   \n",
       "0  False  False  False  16   8  0.2   \n",
       "2  False  False  False  16  32  0.2   \n",
       "5  False  False  False  32  32  0.2   \n",
       "4  False  False  False  32  16  0.2   \n",
       "1  False  False  False  16  16  0.2   \n",
       "\n",
       "                                                6  \\\n",
       "3  [0.00019463735225144774, 0.013951249420642853]   \n",
       "0   [0.0003988739917986095, 0.019971830770373344]   \n",
       "2  [0.00043476521386764944, 0.020851023495197296]   \n",
       "5   [0.00048397979116998613, 0.02199953980743885]   \n",
       "4   [0.0006542017217725515, 0.025577368214726448]   \n",
       "1    [0.0008451705798506737, 0.02907181717455387]   \n",
       "\n",
       "                                               7  \n",
       "3  [0.0021344413980841637, 0.046200014650821686]  \n",
       "0   [0.0044867065735161304, 0.06698288023471832]  \n",
       "2     [0.00502646341919899, 0.07089754939079285]  \n",
       "5    [0.005298966076225042, 0.07279399782419205]  \n",
       "4     [0.006305658724159002, 0.0794081762433052]  \n",
       "1     [0.008308668620884418, 0.0911519005894661]  "
      ]
     },
     "execution_count": 26,
     "metadata": {},
     "output_type": "execute_result"
    }
   ],
   "source": [
    "# Choosing the best model\n",
    "\n",
    "hist = pd.DataFrame(hist)\n",
    "hist = hist.sort_values(by=[7], ascending=True)\n",
    "hist"
   ]
  },
  {
   "cell_type": "code",
   "execution_count": 27,
   "metadata": {},
   "outputs": [
    {
     "name": "stdout",
     "output_type": "stream",
     "text": [
      "Best Combination: \n",
      " first_additional_layer = False\n",
      " second_additional_layer = False\n",
      " third_additional_layer = False\n",
      " n_neurons = 32\n",
      " n_batch_size = 8\n",
      " dropout = 0.2\n",
      "**************************\n",
      "Results Before Tunning:\n",
      " Test Set RMSE: [0.3121]\n",
      "\n",
      "Results After Tunning:\n",
      " Test Set RMSE: 0.0462\n",
      "\n",
      "[85.]% Improvement\n"
     ]
    }
   ],
   "source": [
    "# Result\n",
    "\n",
    "print(f'Best Combination: \\n first_additional_layer = {hist.iloc[0, 0]}\\n second_additional_layer = {hist.iloc[0, 1]}\\n third_additional_layer = {hist.iloc[0, 2]}\\n n_neurons = {hist.iloc[0, 3]}\\n n_batch_size = {hist.iloc[0, 4]}\\n dropout = {hist.iloc[0, 5]}')\n",
    "print('**************************')\n",
    "print(f'Results Before Tunning:\\n Test Set RMSE: {np.round(y_predict, 4)[1]}\\n')\n",
    "print(f'Results After Tunning:\\n Test Set RMSE: {np.round(hist.iloc[0, -1], 4)[1]}\\n')\n",
    "print(f'{np.round((y_predict[1] - hist.iloc[0, -1][1])*100/np.round(y_predict, 4)[1])}% Improvement')"
   ]
  },
  {
   "cell_type": "code",
   "execution_count": 28,
   "metadata": {},
   "outputs": [
    {
     "name": "stdout",
     "output_type": "stream",
     "text": [
      "Model: \"sequential_7\"\n",
      "_________________________________________________________________\n",
      " Layer (type)                Output Shape              Param #   \n",
      "=================================================================\n",
      " lstm_16 (LSTM)              (None, 100, 32)           4352      \n",
      "                                                                 \n",
      " dropout_16 (Dropout)        (None, 100, 32)           0         \n",
      "                                                                 \n",
      " lstm_17 (LSTM)              (None, 100, 60)           22320     \n",
      "                                                                 \n",
      " dropout_17 (Dropout)        (None, 100, 60)           0         \n",
      "                                                                 \n",
      " lstm_18 (LSTM)              (None, 100, 80)           45120     \n",
      "                                                                 \n",
      " dropout_18 (Dropout)        (None, 100, 80)           0         \n",
      "                                                                 \n",
      " lstm_19 (LSTM)              (None, 120)               96480     \n",
      "                                                                 \n",
      " dropout_19 (Dropout)        (None, 120)               0         \n",
      "                                                                 \n",
      " dense_7 (Dense)             (None, 1)                 121       \n",
      "                                                                 \n",
      "=================================================================\n",
      "Total params: 168,393\n",
      "Trainable params: 168,393\n",
      "Non-trainable params: 0\n",
      "_________________________________________________________________\n"
     ]
    }
   ],
   "source": [
    "# Retrain with Best hyperparameter\n",
    "\n",
    "first_additional_layer, second_additional_layer, third_additional_layer, n_neurons, n_batch_size, dropout = list(hist.iloc[0, :-2])\n",
    "\n",
    "best_model = Sequential()\n",
    "best_model.add(LSTM(units= 32, activation = 'relu', return_sequences= True, input_shape = (x_train.shape[1],1)))\n",
    "best_model.add(Dropout(0.2))\n",
    "\n",
    "best_model.add(LSTM(units= 60, activation = 'relu', return_sequences= True))\n",
    "best_model.add(Dropout(0.3))\n",
    "\n",
    "\n",
    "best_model.add(LSTM(units= 80, activation = 'relu', return_sequences= True))\n",
    "best_model.add(Dropout(0.4))\n",
    "\n",
    "best_model.add(LSTM(units= 120, activation = 'relu'))\n",
    "best_model.add(Dropout(0.5))\n",
    "\n",
    "best_model.add(Dense(units = 1))\n",
    "\n",
    "best_model.summary()"
   ]
  },
  {
   "cell_type": "code",
   "execution_count": 29,
   "metadata": {},
   "outputs": [
    {
     "name": "stdout",
     "output_type": "stream",
     "text": [
      "Epoch 1/32\n",
      "58/58 [==============================] - 31s 416ms/step - loss: 0.0810\n",
      "Epoch 2/32\n",
      "58/58 [==============================] - 25s 427ms/step - loss: 0.0425\n",
      "Epoch 3/32\n",
      "58/58 [==============================] - 24s 406ms/step - loss: 0.0333\n",
      "Epoch 4/32\n",
      "58/58 [==============================] - 23s 405ms/step - loss: 0.0317\n",
      "Epoch 5/32\n",
      "58/58 [==============================] - 23s 404ms/step - loss: 0.0324\n",
      "Epoch 6/32\n",
      "58/58 [==============================] - 23s 399ms/step - loss: 0.0292\n",
      "Epoch 7/32\n",
      "58/58 [==============================] - 23s 401ms/step - loss: 0.0291\n",
      "Epoch 8/32\n",
      "58/58 [==============================] - 23s 403ms/step - loss: 0.0300\n",
      "Epoch 9/32\n",
      "58/58 [==============================] - 23s 398ms/step - loss: 0.0286\n",
      "Epoch 10/32\n",
      "58/58 [==============================] - 23s 403ms/step - loss: 0.0287\n",
      "Epoch 11/32\n",
      "58/58 [==============================] - 24s 406ms/step - loss: 0.0284\n",
      "Epoch 12/32\n",
      "58/58 [==============================] - 24s 408ms/step - loss: 0.0266\n",
      "Epoch 13/32\n",
      "58/58 [==============================] - 24s 411ms/step - loss: 0.0268\n",
      "Epoch 14/32\n",
      "58/58 [==============================] - 23s 390ms/step - loss: 0.0266\n",
      "Epoch 15/32\n",
      "58/58 [==============================] - 23s 402ms/step - loss: 0.0271\n",
      "Epoch 16/32\n",
      "58/58 [==============================] - 23s 391ms/step - loss: 0.0277\n",
      "Epoch 17/32\n",
      "58/58 [==============================] - 23s 392ms/step - loss: 0.0279\n",
      "Epoch 18/32\n",
      "58/58 [==============================] - 24s 423ms/step - loss: 0.0270\n",
      "Epoch 19/32\n",
      "58/58 [==============================] - 23s 400ms/step - loss: 0.0251\n",
      "Epoch 20/32\n",
      "58/58 [==============================] - 23s 398ms/step - loss: 0.0262\n",
      "Epoch 21/32\n",
      "58/58 [==============================] - 23s 397ms/step - loss: 0.0263\n",
      "Epoch 22/32\n",
      "58/58 [==============================] - 23s 401ms/step - loss: 0.0276\n",
      "Epoch 23/32\n",
      "58/58 [==============================] - 24s 415ms/step - loss: 0.0257\n",
      "Epoch 24/32\n",
      "58/58 [==============================] - 23s 398ms/step - loss: 0.0257\n",
      "Epoch 25/32\n",
      "58/58 [==============================] - 23s 403ms/step - loss: 0.0252\n",
      "Epoch 26/32\n",
      "58/58 [==============================] - 23s 404ms/step - loss: 0.0251\n",
      "Epoch 27/32\n",
      "58/58 [==============================] - 23s 401ms/step - loss: 0.0240\n",
      "Epoch 28/32\n",
      "58/58 [==============================] - 23s 397ms/step - loss: 0.0246\n",
      "Epoch 29/32\n",
      "58/58 [==============================] - 24s 413ms/step - loss: 0.0263\n",
      "Epoch 30/32\n",
      "58/58 [==============================] - 23s 399ms/step - loss: 0.0249\n",
      "Epoch 31/32\n",
      "58/58 [==============================] - 23s 397ms/step - loss: 0.0242\n",
      "Epoch 32/32\n",
      "58/58 [==============================] - 23s 397ms/step - loss: 0.0240\n"
     ]
    },
    {
     "data": {
      "text/plain": [
       "<keras.callbacks.History at 0x20069cc2830>"
      ]
     },
     "execution_count": 29,
     "metadata": {},
     "output_type": "execute_result"
    }
   ],
   "source": [
    "# Train mô hình\n",
    "\n",
    "#from sklearn.metrics import mean_absolute_error, mean_absolute_percentage_error, mean_squared_error\n",
    "best_model.compile(optimizer = 'adam', loss = 'mean_absolute_error')\n",
    "best_model.fit(x_train, y_train, epochs = 32)"
   ]
  },
  {
   "cell_type": "code",
   "execution_count": 40,
   "metadata": {},
   "outputs": [
    {
     "name": "stdout",
     "output_type": "stream",
     "text": [
      "23/23 [==============================] - 2s 68ms/step\n",
      "MAE:  5.3718465591096685\n"
     ]
    }
   ],
   "source": [
    "# Evaluate model\n",
    "y_predict = best_model.predict(x_test)\n",
    "\n",
    "scale = scaler.scale_\n",
    "\n",
    "scaler_factor = 1/scale[0]\n",
    "y_predicted_2 = y_predict * scaler_factor\n",
    "y_test_2 = y_test * scaler_factor\n",
    "\n",
    "mae_value = mean_absolute_error(y_test_2, y_predicted_2)\n",
    "print(\"MAE: \", mae_value)"
   ]
  },
  {
   "cell_type": "code",
   "execution_count": 31,
   "metadata": {},
   "outputs": [],
   "source": [
    "best_model.save('best_model_stock_pre.h5')"
   ]
  },
  {
   "cell_type": "markdown",
   "metadata": {},
   "source": [
    "# Test load_model .h5"
   ]
  },
  {
   "cell_type": "code",
   "execution_count": 34,
   "metadata": {},
   "outputs": [],
   "source": [
    "from keras.models import load_model"
   ]
  },
  {
   "cell_type": "code",
   "execution_count": 35,
   "metadata": {},
   "outputs": [
    {
     "name": "stdout",
     "output_type": "stream",
     "text": [
      "Model Summary:\n",
      "Model: \"sequential\"\n",
      "_________________________________________________________________\n",
      " Layer (type)                Output Shape              Param #   \n",
      "=================================================================\n",
      " lstm (LSTM)                 (None, 100, 50)           10400     \n",
      "                                                                 \n",
      " dropout (Dropout)           (None, 100, 50)           0         \n",
      "                                                                 \n",
      " lstm_1 (LSTM)               (None, 100, 60)           26640     \n",
      "                                                                 \n",
      " dropout_1 (Dropout)         (None, 100, 60)           0         \n",
      "                                                                 \n",
      " lstm_2 (LSTM)               (None, 100, 80)           45120     \n",
      "                                                                 \n",
      " dropout_2 (Dropout)         (None, 100, 80)           0         \n",
      "                                                                 \n",
      " lstm_3 (LSTM)               (None, 120)               96480     \n",
      "                                                                 \n",
      " dropout_3 (Dropout)         (None, 120)               0         \n",
      "                                                                 \n",
      " dense (Dense)               (None, 1)                 121       \n",
      "                                                                 \n",
      "=================================================================\n",
      "Total params: 178,761\n",
      "Trainable params: 178,761\n",
      "Non-trainable params: 0\n",
      "_________________________________________________________________\n",
      "None\n"
     ]
    }
   ],
   "source": [
    "test_load_model = load_model(\"stock_pre.h5\")\n",
    "print(\"Model Summary:\")\n",
    "print(test_load_model.summary())\n"
   ]
  },
  {
   "cell_type": "code",
   "execution_count": 36,
   "metadata": {},
   "outputs": [
    {
     "name": "stdout",
     "output_type": "stream",
     "text": [
      "Model Summary:\n",
      "Model: \"sequential_7\"\n",
      "_________________________________________________________________\n",
      " Layer (type)                Output Shape              Param #   \n",
      "=================================================================\n",
      " lstm_16 (LSTM)              (None, 100, 32)           4352      \n",
      "                                                                 \n",
      " dropout_16 (Dropout)        (None, 100, 32)           0         \n",
      "                                                                 \n",
      " lstm_17 (LSTM)              (None, 100, 60)           22320     \n",
      "                                                                 \n",
      " dropout_17 (Dropout)        (None, 100, 60)           0         \n",
      "                                                                 \n",
      " lstm_18 (LSTM)              (None, 100, 80)           45120     \n",
      "                                                                 \n",
      " dropout_18 (Dropout)        (None, 100, 80)           0         \n",
      "                                                                 \n",
      " lstm_19 (LSTM)              (None, 120)               96480     \n",
      "                                                                 \n",
      " dropout_19 (Dropout)        (None, 120)               0         \n",
      "                                                                 \n",
      " dense_7 (Dense)             (None, 1)                 121       \n",
      "                                                                 \n",
      "=================================================================\n",
      "Total params: 168,393\n",
      "Trainable params: 168,393\n",
      "Non-trainable params: 0\n",
      "_________________________________________________________________\n",
      "None\n"
     ]
    }
   ],
   "source": [
    "test_load_model = load_model(\"best_model_stock_pre.h5\")\n",
    "print(\"Model Summary:\")\n",
    "print(test_load_model.summary())"
   ]
  },
  {
   "cell_type": "code",
   "execution_count": null,
   "metadata": {},
   "outputs": [],
   "source": []
  }
 ],
 "metadata": {
  "kernelspec": {
   "display_name": "Python 3.10.5 64-bit",
   "language": "python",
   "name": "python3"
  },
  "language_info": {
   "codemirror_mode": {
    "name": "ipython",
    "version": 3
   },
   "file_extension": ".py",
   "mimetype": "text/x-python",
   "name": "python",
   "nbconvert_exporter": "python",
   "pygments_lexer": "ipython3",
   "version": "3.10.5"
  },
  "orig_nbformat": 4,
  "vscode": {
   "interpreter": {
    "hash": "f2ccb58c476f33ba3e3aee7ac07234ef6b8217ef24ad64d2a7d4fed1a57c1cd2"
   }
  }
 },
 "nbformat": 4,
 "nbformat_minor": 2
}
